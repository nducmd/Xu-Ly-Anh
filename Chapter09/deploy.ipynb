{
 "cells": [
  {
   "cell_type": "code",
   "execution_count": 14,
   "id": "14861353-6616-4fdb-9c74-9f0f41e461b4",
   "metadata": {},
   "outputs": [
    {
     "name": "stdout",
     "output_type": "stream",
     "text": [
      " * Serving Flask app '__main__'\n",
      " * Debug mode: off\n"
     ]
    },
    {
     "name": "stderr",
     "output_type": "stream",
     "text": [
      "WARNING: This is a development server. Do not use it in a production deployment. Use a production WSGI server instead.\n",
      " * Running on all addresses (0.0.0.0)\n",
      " * Running on http://127.0.0.1:5005\n",
      " * Running on http://192.168.1.18:5005\n",
      "Press CTRL+C to quit\n",
      "127.0.0.1 - - [26/Nov/2024 18:01:48] \"POST /predict HTTP/1.1\" 200 -\n",
      "127.0.0.1 - - [26/Nov/2024 18:29:51] \"GET / HTTP/1.1\" 200 -\n",
      "127.0.0.1 - - [26/Nov/2024 18:30:31] \"POST /predict HTTP/1.1\" 200 -\n",
      "127.0.0.1 - - [26/Nov/2024 18:30:53] \"POST /predict HTTP/1.1\" 200 -\n",
      "127.0.0.1 - - [26/Nov/2024 18:31:45] \"POST /predict HTTP/1.1\" 200 -\n",
      "127.0.0.1 - - [26/Nov/2024 18:32:18] \"POST /predict HTTP/1.1\" 200 -\n",
      "127.0.0.1 - - [26/Nov/2024 18:33:27] \"POST /predict HTTP/1.1\" 200 -\n",
      "127.0.0.1 - - [26/Nov/2024 18:34:17] \"POST /predict HTTP/1.1\" 200 -\n",
      "127.0.0.1 - - [26/Nov/2024 18:34:48] \"POST /predict HTTP/1.1\" 200 -\n",
      "127.0.0.1 - - [26/Nov/2024 18:35:19] \"POST /predict HTTP/1.1\" 200 -\n",
      "127.0.0.1 - - [26/Nov/2024 18:36:02] \"POST /predict HTTP/1.1\" 200 -\n",
      "127.0.0.1 - - [26/Nov/2024 18:36:27] \"POST /predict HTTP/1.1\" 200 -\n",
      "127.0.0.1 - - [26/Nov/2024 18:36:57] \"POST /predict HTTP/1.1\" 200 -\n"
     ]
    }
   ],
   "source": [
    "from flask import Flask, request, jsonify, render_template\n",
    "import joblib\n",
    "import numpy as np\n",
    "from PIL import Image\n",
    "from flask_cors import CORS\n",
    "\n",
    "app = Flask(__name__)\n",
    "CORS(app)\n",
    "\n",
    "# Load mô hình đã huấn luyện\n",
    "model = joblib.load('svm_model.pkl')\n",
    "\n",
    "@app.route('/')\n",
    "def index():\n",
    "    return render_template('index.html')  # Giao diện HTML\n",
    "\n",
    "@app.route('/predict', methods=['POST'])\n",
    "def predict():\n",
    "    # Kiểm tra đầu vào\n",
    "    if 'file' not in request.files:\n",
    "        return jsonify({'error': 'No file uploaded'})\n",
    "    \n",
    "    file = request.files['file']\n",
    "    if file.filename == '':\n",
    "        return jsonify({'error': 'No selected file'})\n",
    "    \n",
    "    # Xử lý ảnh\n",
    "    try:\n",
    "        # Đổi thành ảnh grayscale và resize về 28x28\n",
    "        img = Image.open(file).convert('L').resize((28, 28)) \n",
    "        # Chuyển thành vector\n",
    "        img_array = np.array(img).reshape(1, -1) \n",
    "        # Dự đoán nhãn\n",
    "        prediction = model.predict(img_array)[0]  \n",
    "        return jsonify({'prediction': int(prediction)})\n",
    "    except Exception as e:\n",
    "        return jsonify({'error': str(e)})\n",
    "\n",
    "if __name__ == '__main__':\n",
    "    app.run(host='0.0.0.0', port=5005)\n"
   ]
  },
  {
   "cell_type": "code",
   "execution_count": null,
   "id": "566eaa86-d15c-4bd1-85a7-4b184697ab1d",
   "metadata": {},
   "outputs": [],
   "source": []
  },
  {
   "cell_type": "code",
   "execution_count": null,
   "id": "4f785a48-fd63-4d61-b0d5-1dcd81740d7f",
   "metadata": {},
   "outputs": [],
   "source": []
  }
 ],
 "metadata": {
  "kernelspec": {
   "display_name": "Python 3 (ipykernel)",
   "language": "python",
   "name": "python3"
  },
  "language_info": {
   "codemirror_mode": {
    "name": "ipython",
    "version": 3
   },
   "file_extension": ".py",
   "mimetype": "text/x-python",
   "name": "python",
   "nbconvert_exporter": "python",
   "pygments_lexer": "ipython3",
   "version": "3.12.4"
  }
 },
 "nbformat": 4,
 "nbformat_minor": 5
}
